{
 "cells": [
  {
   "cell_type": "markdown",
   "source": [
    "## Sujet\n",
    "Ce projet est mis en place pour trouver les composantes connexes dans un large graphe G=(V,E)\n",
    "l'implémentation de ce projet ce fait dans un cluster hadoop AWS fournis par l'université\n",
    "### Partie 1\n",
    "Dans cette partie on va présenter le JOB iterate de map reduce ce job a pour but de trouver les composantes connexes\n",
    "cette approche est utilisée .."
   ],
   "metadata": {
    "collapsed": false
   }
  },
  {
   "cell_type": "code",
   "execution_count": 2,
   "metadata": {
    "collapsed": true
   },
   "outputs": [],
   "source": [
    "import random\n",
    "\n",
    "from pyspark import *\n",
    "# Spark Configurations\n",
    "conf = SparkConf()\n",
    "conf.set(\"spark.master\", \"local[*]\")\n",
    "conf = conf.setAppName('WordCount')\n",
    "sc = SparkContext(conf=conf)\n",
    "acc = sc.accumulator(1)"
   ]
  },
  {
   "cell_type": "markdown",
   "source": [
    "apres la déclaration de l'environement spark et l'installation de la configuration on va implémenter la\n",
    "première méthode de traitement"
   ],
   "metadata": {
    "collapsed": false,
    "pycharm": {
     "name": "#%% md\n"
    }
   }
  },
  {
   "cell_type": "code",
   "execution_count": 1,
   "outputs": [],
   "source": [
    "def traitement(key,values):\n",
    "    minval = min(values)\n",
    "    result=[]\n",
    "    if minval<key:\n",
    "        result.append((key,minval))\n",
    "        for value in values:\n",
    "            if(minval != value):\n",
    "                acc.add(1)\n",
    "                result.append((value,minval))\n",
    "\n",
    "    return result"
   ],
   "metadata": {
    "collapsed": false,
    "pycharm": {
     "name": "#%%\n"
    }
   }
  },
  {
   "cell_type": "markdown",
   "source": [
    "On a un fichier de test avec quelques noeuds qui est </br>\n",
    "[(A B)\n",
    "(B C),\n",
    "(B D),\n",
    "(D E),\n",
    "(F G),\n",
    "(G H)]"
   ],
   "metadata": {
    "collapsed": false,
    "pycharm": {
     "name": "#%% md\n"
    }
   }
  },
  {
   "cell_type": "code",
   "execution_count": 3,
   "outputs": [
    {
     "name": "stdout",
     "output_type": "stream",
     "text": [
      "[('B', 'A'), ('C', 'A'), ('D', 'A'), ('H', 'G'), ('C', 'B'), ('D', 'B'), ('E', 'B'), ('G', 'F'), ('H', 'F'), ('E', 'D')]\n",
      "[('B', 'A'), ('C', 'A'), ('D', 'A'), ('E', 'A'), ('H', 'F'), ('G', 'F'), ('C', 'A'), ('B', 'A'), ('D', 'A'), ('B', 'A'), ('E', 'A'), ('E', 'B'), ('D', 'B'), ('G', 'F'), ('H', 'F')]\n",
      "[('B', 'A'), ('E', 'A'), ('D', 'A'), ('D', 'A'), ('B', 'A'), ('E', 'A'), ('B', 'A'), ('G', 'F'), ('H', 'F'), ('C', 'A')]\n",
      "[('H', 'F'), ('B', 'A'), ('E', 'A'), ('D', 'A'), ('G', 'F'), ('C', 'A')]\n",
      "[('E', 'A'), ('D', 'A'), ('G', 'F'), ('H', 'F'), ('B', 'A'), ('C', 'A')]\n",
      "5\n"
     ]
    }
   ],
   "source": [
    "iterations=0\n",
    "#charger les données\n",
    "graphe=sc.textFile(\"/home/bboydhaouse/Bureau/Bigdata/pythonProject/Traininig/facebook_combined.txt\")\n",
    "\n",
    "sortie = graphe.map(lambda x : x.split(' ')).map(lambda x : (x[0],x[1]))\n",
    "acc = sc.accumulator(1)\n",
    "while(acc.value!=0):\n",
    "    acc = sc.accumulator(0)\n",
    "    graphe_direction1 = sortie\n",
    "    graphe_direction2 = graphe_direction1.map(lambda x: (x[1], x[0]))\n",
    "    graphe_ccf = graphe_direction1.union(graphe_direction2).groupByKey().mapValues(list)\n",
    "    sortie = graphe_ccf.flatMap(lambda x: traitement(x[0], x[1]))\n",
    "    resultat = sortie.collect()\n",
    "    print(resultat)\n",
    "    iterations+=1\n",
    "\n",
    "print(iterations)"
   ],
   "metadata": {
    "collapsed": false,
    "pycharm": {
     "name": "#%%\n"
    }
   }
  },
  {
   "cell_type": "markdown",
   "source": [
    "Cette implémentation consiste a implementer le 2e algorithme qui est le CCF Iterate avec sorting :"
   ],
   "metadata": {
    "collapsed": false,
    "pycharm": {
     "name": "#%% md\n"
    }
   }
  },
  {
   "cell_type": "code",
   "execution_count": null,
   "outputs": [],
   "source": [],
   "metadata": {
    "collapsed": false,
    "pycharm": {
     "name": "#%%\n"
    }
   }
  },
  {
   "cell_type": "markdown",
   "source": [
    "voici les résultat de temps d'execution du 2eme algorithme :\n",
    "Noeuds = nombre de noeuds\n",
    "temps_execution = temps de traitement\n",
    "Nombre_de_composantes_connexes= nembre de composante connexe trouvée\n",
    "\n",
    "Noeuds=[..] en millisecondes\n",
    "edges = [..]\n",
    "temps_execution=[11388]\n",
    "Nombre_de_composantes_connexes=[4038]"
   ],
   "metadata": {
    "collapsed": false,
    "pycharm": {
     "name": "#%% md\n"
    }
   }
  }
 ],
 "metadata": {
  "kernelspec": {
   "display_name": "Python 3",
   "language": "python",
   "name": "python3"
  },
  "language_info": {
   "codemirror_mode": {
    "name": "ipython",
    "version": 2
   },
   "file_extension": ".py",
   "mimetype": "text/x-python",
   "name": "python",
   "nbconvert_exporter": "python",
   "pygments_lexer": "ipython2",
   "version": "2.7.6"
  }
 },
 "nbformat": 4,
 "nbformat_minor": 0
}